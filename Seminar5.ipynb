{
 "cells": [
  {
   "cell_type": "code",
   "execution_count": null,
   "id": "6a36b36b-88e3-4b8c-8fb1-269c63e5fd1d",
   "metadata": {},
   "outputs": [],
   "source": [
    "import numpy as np"
   ]
  },
  {
   "cell_type": "code",
   "execution_count": null,
   "id": "9a864c9f-2955-497f-b0b3-152941cced3f",
   "metadata": {},
   "outputs": [],
   "source": [
    "#1\n",
    "\n",
    "print(np.arange(50, 101))"
   ]
  },
  {
   "cell_type": "code",
   "execution_count": null,
   "id": "c73ffc89-3b8d-4c8e-aa75-30e71a67d0a8",
   "metadata": {},
   "outputs": [],
   "source": [
    "#2\n",
    "\n",
    "print(np.repeat(0,10))\n",
    "print(np.repeat(1,10))\n",
    "print(np.repeat(6,10))"
   ]
  },
  {
   "cell_type": "code",
   "execution_count": null,
   "id": "fc71c12c-0310-4205-a692-e1dc2fae9912",
   "metadata": {},
   "outputs": [],
   "source": [
    "#3\n",
    "\n",
    "print(np.arange(20, 32).reshape(3, 4))"
   ]
  },
  {
   "cell_type": "code",
   "execution_count": null,
   "id": "58deccb3-58a5-4244-a811-200e111b0093",
   "metadata": {},
   "outputs": [],
   "source": [
    "#4\n",
    "\n",
    "print(np.diag([1,1,1]))"
   ]
  },
  {
   "cell_type": "code",
   "execution_count": null,
   "id": "e0044b26-9448-48f3-b283-bbbdd61f31e7",
   "metadata": {},
   "outputs": [],
   "source": [
    "#5\n",
    "\n",
    "print(np.diag([1,2,3,4,5]))"
   ]
  },
  {
   "cell_type": "code",
   "execution_count": null,
   "id": "cefaffcf-8681-499a-a00e-ceab95bff33e",
   "metadata": {},
   "outputs": [],
   "source": [
    "#6\n",
    "\n",
    "arr = np.array([[1, 2], [3, 4]])\n",
    "total_sum = np.sum(arr)\n",
    "row_sum = np.sum(arr, axis=1)\n",
    "col_sum = np.sum(arr, axis=0)\n",
    "\n",
    "print(\"Массив:\\n\", arr)\n",
    "print(\"Нийт элементүүдийн нийлбэр:\", total_sum)\n",
    "print(\"Мөрнүүдийн нийлбэр:\", row_sum)\n",
    "print(\"Багануудын нийлбэр:\", col_sum)\n"
   ]
  },
  {
   "cell_type": "code",
   "execution_count": null,
   "id": "1095d0c2-93ee-442e-9add-64bf4839511d",
   "metadata": {},
   "outputs": [],
   "source": [
    "#7\n",
    "\n",
    "Seasons = [\"2013\",\"2014\",\"2015\",\"2016\",\"2017\",\"2018\",\"2019\",\"2020\",\"2021\",\"2022\"]\n",
    "Sdict = {\"2013\":0,\"2014\":1,\"2015\":2,\"2016\":3,\"2017\":4,\"2018\":5,\"2019\":6,\"2020\":7,\"2021\":8,\"2022\":9}\n",
    "\n",
    "Players = [\"CristianoRonaldo\",\"KylianMbappe\",\"LionelMessi\",\"Neymar\",\"MohamedSalah\",\"EdenHazard\",\"AndresIniesta\",\"RaheemSterling\",\"KevinDeBruyne\",\"AntoineGriezmann\"]\n",
    "Pdict = {\"CristianoRonaldo\":0,\"KylianMbappe\":1,\"LionelMessi\":2,\"Neymar\":3,\"MohamedSalah\":4,\"EdenHazard\":5,\"AndresIniesta\":6,\"RaheemSterling\":7,\"KevinDeBruyne\":8,\"AntoineGriezmann\":9}\n",
    "\n",
    "#Salary\n",
    "CristianoRonaldo_S = [28117505,24857021,23887688,28806219,29813196,49114304,49116871,49116871,4545000,26800000]\n",
    "KylianMbappe_S = [0,0,3000,1130000,17769000,18643000,32090000,32090000,32090000,76228796]\n",
    "LionelMessi_S = [20543000,29631000,28474000,38284000,39261000,70758000,71000000,71000000,63640000,53362673]\n",
    "Neymar_S = [0,6020000,5294000,8122000,13740000,23820000,23820000,23820000,31000000,31000000]\n",
    "MohamedSalah_S = [1560000,1482660,0,4300828,5306949,6240000,10400000,10400000,10400000,10400000,18200000]\n",
    "EdenHazard_S = [11043916,11294037,10853403,13088133,13545130,13639803,31250000,31250000,28130000,260203387]\n",
    "AndresIniesta_S = [6350706,5584823,6478353,7817065,8080798,0,0,0,0,0]\n",
    "RaheemSterling_S = [1300000,1820000,7800000,7800000,7800000,7800000,15600000,15600000,15600000,16900000]\n",
    "KevinDeBruyne_S = [4017642,3531548,7800000,7800000,11967000,11967000,18200000,20800000,20800000,20800000]\n",
    "AntoineGriezmann_S = [936000,4528000,6554000,8107000,21265000,45843000,34000000,37500000,37500000,17466129]\n",
    "\n",
    "Salary = np.array([CristianoRonaldo_S, KylianMbappe_S, LionelMessi_S, Neymar_S, MohamedSalah_S, EdenHazard_S, AndresIniesta_S, RaheemSterling_S, KevinDeBruyne_S, AntoineGriezmann_S])\n",
    "\n",
    "#Games\n",
    "CristianoRonaldo_G = [30,35,36,29,27,31,33,33,31,17]\n",
    "KylianMbappe_G = [11,29,28,29,20,31,35,22]\n",
    "LionelMessi_G = [31,38,33,34,36,34,33,35,26,21]\n",
    "Neymar_G = [0,33,34,30,20,17,15,18,22,20]\n",
    "MohamedSalah_G = [28,19,34,31,36,38,34,37,35,25]\n",
    "EdenHazard_G = [35,38,31,36,35,37,16,14,18,3]\n",
    "AndresIniesta_G = [35,24,28,23,30,0,0,0,0,0]\n",
    "RaheemSterling_G = [33,35,31,33,33,34,33,31,30,19]\n",
    "KevinDeBruyne_G = [19,34,27,36,37,19,35,25,30,24]\n",
    "AntoineGriezmann_G = [35,37,38,36,32,37,35,36,29,24]\n",
    "\n",
    "Games = np.array([CristianoRonaldo_G, KylianMbappe_G, LionelMessi_G, Neymar_G, MohamedSalah_G, EdenHazard_G, AndresIniesta_G, RaheemSterling_G, KevinDeBruyne_G, AntoineGriezmann_G])\n",
    "\n",
    "#Points\n",
    "CristianoRonaldo_PTS = [31,49,35,25,26,21,31,29,18,9]\n",
    "KylianMbappe_PTS = [1,15,13,33,18,27,28,18]\n",
    "LionelMessi_PTS = [28,43,26,37,34,36,25,30,6,13]\n",
    "Neymar_PTS = [0,22,24,13,19,15,13,9,13,13]\n",
    "MohamedSalah_PTS = [6,6,14,15,32,22,19,22,23,11]\n",
    "EdenHazard_PTS = [14,14,4,16,12,16,1,3,0,0]\n",
    "AndresIniesta_G = [3,0,1,0,1,0,0,0,0,0]\n",
    "RaheemSterling_PTS = [9,7,6,7,18,17,20,10,13,4]\n",
    "KevinDeBruyne_PTS = [3,10,7,6,8,2,13,6,15,4]\n",
    "AntoineGriezmann_PTS = [16,22,22,16,19,15,9,13,3,8]\n",
    "\n",
    "Points = np.array([CristianoRonaldo_PTS, KylianMbappe_PTS, LionelMessi_PTS, Neymar_PTS, MohamedSalah_PTS, EdenHazard_PTS, AndresIniesta_G, RaheemSterling_PTS, KevinDeBruyne_PTS, AntoineGriezmann_PTS])             \n",
    "\n",
    "print(Salary.sum(axis = 0))\n",
    "print(Salary.sum(axis = 1))\n",
    "\n",
    "print(Games.sum(axis = 1))\n",
    "print(Games.sum(axis = 0))\n",
    "\n",
    "print(Points.sum(axis = 0))\n",
    "print(Points.sum(axis = 1))"
   ]
  },
  {
   "cell_type": "code",
   "execution_count": null,
   "id": "aa387b9d-d28b-4665-87ab-e399cd0f99f8",
   "metadata": {},
   "outputs": [],
   "source": []
  }
 ],
 "metadata": {
  "kernelspec": {
   "display_name": "Python 3 (ipykernel)",
   "language": "python",
   "name": "python3"
  },
  "language_info": {
   "codemirror_mode": {
    "name": "ipython",
    "version": 3
   },
   "file_extension": ".py",
   "mimetype": "text/x-python",
   "name": "python",
   "nbconvert_exporter": "python",
   "pygments_lexer": "ipython3",
   "version": "3.9.13"
  },
  "widgets": {
   "application/vnd.jupyter.widget-state+json": {
    "state": {},
    "version_major": 2,
    "version_minor": 0
   }
  }
 },
 "nbformat": 4,
 "nbformat_minor": 5
}
